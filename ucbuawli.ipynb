{
 "cells": [
  {
   "cell_type": "code",
   "execution_count": 1,
   "id": "5aae2ad0-43f7-4298-ab37-c9069e276a60",
   "metadata": {},
   "outputs": [
    {
     "name": "stdout",
     "output_type": "stream",
     "text": [
      "test commit\n"
     ]
    }
   ],
   "source": [
    "print(\"test commit\")"
   ]
  },
  {
   "cell_type": "code",
   "execution_count": null,
   "id": "9e35865f-690a-4c4a-9537-bbe05d86f59b",
   "metadata": {},
   "outputs": [],
   "source": [
    "print(\"check prompt\")"
   ]
  },
  {
   "cell_type": "code",
   "execution_count": 3,
   "id": "200c8109-7447-465b-b223-f06daf4733e2",
   "metadata": {},
   "outputs": [
    {
     "data": {
      "text/plain": [
       "{'__name__': '__main__',\n",
       " '__doc__': 'Automatically created module for IPython interactive environment',\n",
       " '__package__': None,\n",
       " '__loader__': None,\n",
       " '__spec__': None,\n",
       " '__builtin__': <module 'builtins' (built-in)>,\n",
       " '__builtins__': <module 'builtins' (built-in)>,\n",
       " '_ih': ['', 'print(\"test commit\")', 'globals', 'globals()'],\n",
       " '_oh': {2: <function globals()>},\n",
       " '_dh': [PosixPath('/home/adhithya/jupyter-git-check')],\n",
       " 'In': ['', 'print(\"test commit\")', 'globals', 'globals()'],\n",
       " 'Out': {2: <function globals()>},\n",
       " 'get_ipython': <bound method InteractiveShell.get_ipython of <ipykernel.zmqshell.ZMQInteractiveShell object at 0x7f3f8fa06d00>>,\n",
       " 'exit': <IPython.core.autocall.ZMQExitAutocall at 0x7f3f8fa27e20>,\n",
       " 'quit': <IPython.core.autocall.ZMQExitAutocall at 0x7f3f8fa27e20>,\n",
       " 'open': <function io.open(file, mode='r', buffering=-1, encoding=None, errors=None, newline=None, closefd=True, opener=None)>,\n",
       " '_': <function globals()>,\n",
       " '__': '',\n",
       " '___': '',\n",
       " '__session__': '/home/adhithya/jupyter-git-check/Untitled.ipynb',\n",
       " '_i': 'globals',\n",
       " '_ii': 'print(\"test commit\")',\n",
       " '_iii': '',\n",
       " '_i1': 'print(\"test commit\")',\n",
       " '_i2': 'globals',\n",
       " '_2': <function globals()>,\n",
       " '_i3': 'globals()'}"
      ]
     },
     "execution_count": 3,
     "metadata": {},
     "output_type": "execute_result"
    }
   ],
   "source": [
    "globals()"
   ]
  },
  {
   "cell_type": "code",
   "execution_count": 1,
   "id": "db0a7a7b-1153-4faa-8595-eb101e4500e6",
   "metadata": {},
   "outputs": [
    {
     "data": {
      "text/plain": [
       "{'raw_cell': 'from IPython import get_ipython\\nget_ipython().get_local_scope(3)',\n",
       " 'silent': False,\n",
       " 'shell_futures': True,\n",
       " 'transformed_cell': 'from IPython import get_ipython\\nget_ipython().get_local_scope(3)\\n',\n",
       " 'preprocessing_exc_tuple': None,\n",
       " 'cell_id': 'db0a7a7b-1153-4faa-8595-eb101e4500e6',\n",
       " 'info': <ExecutionInfo object at 7f10a429ccd0, raw_cell=\"from IPython import get_ipython\n",
       " get_ipython().get_..\" store_history=True silent=False shell_futures=True cell_id=db0a7a7b-1153-4faa-8595-eb101e4500e6>,\n",
       " 'error_before_exec': <function IPython.core.interactiveshell.InteractiveShell.run_cell_async.<locals>.error_before_exec(value)>,\n",
       " 'cell': 'from IPython import get_ipython\\nget_ipython().get_local_scope(3)\\n',\n",
       " 'compiler': <ipykernel.compiler.XCachingCompiler at 0x7f10a8303d00>,\n",
       " '_run_async': False,\n",
       " 'cell_name': '/tmp/ipykernel_5491/3978781963.py',\n",
       " 'code_ast': <ast.Module at 0x7f10a42b37f0>,\n",
       " 'interactivity': 'last_expr',\n",
       " 'result': <ExecutionResult object at 7f10a429ca90, execution_count=1 error_before_exec=None error_in_exec=None info=<ExecutionInfo object at 7f10a429ccd0, raw_cell=\"from IPython import get_ipython\n",
       " get_ipython().get_..\" store_history=True silent=False shell_futures=True cell_id=db0a7a7b-1153-4faa-8595-eb101e4500e6> result=None>,\n",
       " 'self': <ipykernel.zmqshell.ZMQInteractiveShell at 0x7f10a8303c70>,\n",
       " 'store_history': True}"
      ]
     },
     "execution_count": 1,
     "metadata": {},
     "output_type": "execute_result"
    }
   ],
   "source": [
    "from IPython import get_ipython\n",
    "get_ipython().get_local_scope(3)"
   ]
  },
  {
   "cell_type": "code",
   "execution_count": 8,
   "id": "24213749-8a09-4e7a-9b81-87c4dbdc794d",
   "metadata": {},
   "outputs": [
    {
     "data": {
      "text/plain": [
       "environ{'SHELL': '/bin/bash',\n",
       "        'SESSION_MANAGER': 'local/adhithya-Aspire-A514-54:@/tmp/.ICE-unix/1835,unix/adhithya-Aspire-A514-54:/tmp/.ICE-unix/1835',\n",
       "        'QT_ACCESSIBILITY': '1',\n",
       "        'COLORTERM': 'truecolor',\n",
       "        'XDG_CONFIG_DIRS': '/etc/xdg/xdg-ubuntu:/etc/xdg',\n",
       "        'NVM_INC': '/home/adhithya/.nvm/versions/node/v20.8.0/include/node',\n",
       "        'XDG_MENU_PREFIX': 'gnome-',\n",
       "        'GNOME_DESKTOP_SESSION_ID': 'this-is-deprecated',\n",
       "        'CONDA_EXE': '/home/adhithya/anaconda3/bin/conda',\n",
       "        '_CE_M': '',\n",
       "        'LANGUAGE': 'en_IN:en',\n",
       "        'GNOME_SHELL_SESSION_MODE': 'ubuntu',\n",
       "        'SSH_AUTH_SOCK': '/run/user/1000/keyring/ssh',\n",
       "        'XMODIFIERS': '@im=ibus',\n",
       "        'DESKTOP_SESSION': 'ubuntu',\n",
       "        'SSH_AGENT_PID': '1795',\n",
       "        'GTK_MODULES': 'gail:atk-bridge',\n",
       "        'PWD': '/home/adhithya',\n",
       "        'LOGNAME': 'adhithya',\n",
       "        'XDG_SESSION_DESKTOP': 'ubuntu',\n",
       "        'XDG_SESSION_TYPE': 'x11',\n",
       "        'CONDA_PREFIX': '/home/adhithya/anaconda3',\n",
       "        'GPG_AGENT_INFO': '/run/user/1000/gnupg/S.gpg-agent:0:1',\n",
       "        'XAUTHORITY': '/run/user/1000/gdm/Xauthority',\n",
       "        'GJS_DEBUG_TOPICS': 'JS ERROR;JS LOG',\n",
       "        'WINDOWPATH': '2',\n",
       "        'HOME': '/home/adhithya',\n",
       "        'USERNAME': 'adhithya',\n",
       "        'IM_CONFIG_PHASE': '1',\n",
       "        'LANG': 'en_IN',\n",
       "        'LS_COLORS': 'rs=0:di=01;34:ln=01;36:mh=00:pi=40;33:so=01;35:do=01;35:bd=40;33;01:cd=40;33;01:or=40;31;01:mi=00:su=37;41:sg=30;43:ca=30;41:tw=30;42:ow=34;42:st=37;44:ex=01;32:*.tar=01;31:*.tgz=01;31:*.arc=01;31:*.arj=01;31:*.taz=01;31:*.lha=01;31:*.lz4=01;31:*.lzh=01;31:*.lzma=01;31:*.tlz=01;31:*.txz=01;31:*.tzo=01;31:*.t7z=01;31:*.zip=01;31:*.z=01;31:*.dz=01;31:*.gz=01;31:*.lrz=01;31:*.lz=01;31:*.lzo=01;31:*.xz=01;31:*.zst=01;31:*.tzst=01;31:*.bz2=01;31:*.bz=01;31:*.tbz=01;31:*.tbz2=01;31:*.tz=01;31:*.deb=01;31:*.rpm=01;31:*.jar=01;31:*.war=01;31:*.ear=01;31:*.sar=01;31:*.rar=01;31:*.alz=01;31:*.ace=01;31:*.zoo=01;31:*.cpio=01;31:*.7z=01;31:*.rz=01;31:*.cab=01;31:*.wim=01;31:*.swm=01;31:*.dwm=01;31:*.esd=01;31:*.jpg=01;35:*.jpeg=01;35:*.mjpg=01;35:*.mjpeg=01;35:*.gif=01;35:*.bmp=01;35:*.pbm=01;35:*.pgm=01;35:*.ppm=01;35:*.tga=01;35:*.xbm=01;35:*.xpm=01;35:*.tif=01;35:*.tiff=01;35:*.png=01;35:*.svg=01;35:*.svgz=01;35:*.mng=01;35:*.pcx=01;35:*.mov=01;35:*.mpg=01;35:*.mpeg=01;35:*.m2v=01;35:*.mkv=01;35:*.webm=01;35:*.ogm=01;35:*.mp4=01;35:*.m4v=01;35:*.mp4v=01;35:*.vob=01;35:*.qt=01;35:*.nuv=01;35:*.wmv=01;35:*.asf=01;35:*.rm=01;35:*.rmvb=01;35:*.flc=01;35:*.avi=01;35:*.fli=01;35:*.flv=01;35:*.gl=01;35:*.dl=01;35:*.xcf=01;35:*.xwd=01;35:*.yuv=01;35:*.cgm=01;35:*.emf=01;35:*.ogv=01;35:*.ogx=01;35:*.aac=00;36:*.au=00;36:*.flac=00;36:*.m4a=00;36:*.mid=00;36:*.midi=00;36:*.mka=00;36:*.mp3=00;36:*.mpc=00;36:*.ogg=00;36:*.ra=00;36:*.wav=00;36:*.oga=00;36:*.opus=00;36:*.spx=00;36:*.xspf=00;36:',\n",
       "        'XDG_CURRENT_DESKTOP': 'ubuntu:GNOME',\n",
       "        'VTE_VERSION': '6003',\n",
       "        'CONDA_PROMPT_MODIFIER': '(base) ',\n",
       "        'GNOME_TERMINAL_SCREEN': '/org/gnome/Terminal/screen/d1a55312_0b4f_4b01_9cc1_94bd993616a6',\n",
       "        'INVOCATION_ID': '3f4b92b321054821a5dbba6002716019',\n",
       "        'MANAGERPID': '1617',\n",
       "        'GJS_DEBUG_OUTPUT': 'stderr',\n",
       "        'NVM_DIR': '/home/adhithya/.nvm',\n",
       "        'LESSCLOSE': '/usr/bin/lesspipe %s %s',\n",
       "        'XDG_SESSION_CLASS': 'user',\n",
       "        'TERM': 'xterm-color',\n",
       "        '_CE_CONDA': '',\n",
       "        'LESSOPEN': '| /usr/bin/lesspipe %s',\n",
       "        'USER': 'adhithya',\n",
       "        'GNOME_TERMINAL_SERVICE': ':1.87',\n",
       "        'CONDA_SHLVL': '1',\n",
       "        'DISPLAY': ':0',\n",
       "        'SHLVL': '1',\n",
       "        'NVM_CD_FLAGS': '',\n",
       "        'MOZ_ENABLE_WAYLAND': '1',\n",
       "        'QT_IM_MODULE': 'ibus',\n",
       "        'CONDA_PYTHON_EXE': '/home/adhithya/anaconda3/bin/python',\n",
       "        'XDG_RUNTIME_DIR': '/run/user/1000',\n",
       "        'CONDA_DEFAULT_ENV': 'base',\n",
       "        'JOURNAL_STREAM': '8:47722',\n",
       "        'XDG_DATA_DIRS': '/usr/share/ubuntu:/usr/local/share/:/usr/share/:/var/lib/snapd/desktop',\n",
       "        'PATH': '/home/adhithya/.nvm/versions/node/v20.8.0/bin:/home/adhithya/anaconda3/bin:/home/adhithya/anaconda3/condabin:/home/adhithya/.local/bin:/usr/local/sbin:/usr/local/bin:/usr/sbin:/usr/bin:/sbin:/bin:/usr/games:/usr/local/games:/snap/bin:/usr/local/go/bin:/usr/local/go/bin',\n",
       "        'GDMSESSION': 'ubuntu',\n",
       "        'DBUS_SESSION_BUS_ADDRESS': 'unix:path=/run/user/1000/bus',\n",
       "        'NVM_BIN': '/home/adhithya/.nvm/versions/node/v20.8.0/bin',\n",
       "        '_': '/home/adhithya/anaconda3/bin/jupyter',\n",
       "        'GIT_PYTHON_REFRESH': 'quiet',\n",
       "        'PYDEVD_USE_FRAME_EVAL': 'NO',\n",
       "        'PYTHONUNBUFFERED': '1',\n",
       "        'JPY_SESSION_NAME': '/home/adhithya/jupyter-git-check/Untitled.ipynb',\n",
       "        'JPY_PARENT_PID': '3735',\n",
       "        'CLICOLOR': '1',\n",
       "        'FORCE_COLOR': '1',\n",
       "        'CLICOLOR_FORCE': '1',\n",
       "        'PAGER': 'cat',\n",
       "        'GIT_PAGER': 'cat',\n",
       "        'MPLBACKEND': 'module://matplotlib_inline.backend_inline'}"
      ]
     },
     "execution_count": 8,
     "metadata": {},
     "output_type": "execute_result"
    }
   ],
   "source": [
    "import os\n",
    "os.environ"
   ]
  }
 ],
 "metadata": {
  "kernelspec": {
   "display_name": "Python 3 (ipykernel)",
   "language": "python",
   "name": "python3"
  },
  "language_info": {
   "codemirror_mode": {
    "name": "ipython",
    "version": 3
   },
   "file_extension": ".py",
   "mimetype": "text/x-python",
   "name": "python",
   "nbconvert_exporter": "python",
   "pygments_lexer": "ipython3",
   "version": "3.9.12"
  }
 },
 "nbformat": 4,
 "nbformat_minor": 5
}
