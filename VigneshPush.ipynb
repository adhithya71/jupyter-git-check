{
 "cells": [
  {
   "cell_type": "code",
   "execution_count": null,
   "id": "07d14ac4-6916-4c89-ba79-254438aa2432",
   "metadata": {},
   "outputs": [],
   "source": [
    "#checking123"
   ]
  },
  {
   "cell_type": "code",
   "execution_count": 2,
   "id": "e7964c81-6d05-4cee-a3cf-046708256e3a",
   "metadata": {},
   "outputs": [
    {
     "name": "stdout",
     "output_type": "stream",
     "text": [
      "vignesh bro\n"
     ]
    }
   ],
   "source": [
    "print(\"vignesh bro\")"
   ]
  },
  {
   "cell_type": "code",
   "execution_count": null,
   "id": "2812db3b-673a-47a9-beb0-627c55617424",
   "metadata": {},
   "outputs": [],
   "source": [
    "#rechecking"
   ]
  }
 ],
 "metadata": {
  "kernelspec": {
   "display_name": "Python 3 (ipykernel)",
   "language": "python",
   "name": "python3"
  },
  "language_info": {
   "codemirror_mode": {
    "name": "ipython",
    "version": 3
   },
   "file_extension": ".py",
   "mimetype": "text/x-python",
   "name": "python",
   "nbconvert_exporter": "python",
   "pygments_lexer": "ipython3",
   "version": "3.10.13"
  }
 },
 "nbformat": 4,
 "nbformat_minor": 5
}
